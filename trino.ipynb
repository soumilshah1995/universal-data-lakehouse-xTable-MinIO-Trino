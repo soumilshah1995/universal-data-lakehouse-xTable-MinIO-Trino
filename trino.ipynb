{
 "cells": [
  {
   "cell_type": "markdown",
   "id": "6ab875bd-09b8-4ffc-bea2-683ceab76956",
   "metadata": {},
   "source": [
    "# Apache X Table with DeltaStreamer and trino Demo"
   ]
  },
  {
   "cell_type": "markdown",
   "id": "1fae7304-be62-471c-8eee-9ac72fdf2f00",
   "metadata": {},
   "source": [
    "# Install DEP\n",
    "```\n",
    "pip install trino\n",
    "pip install ipython-sql\n",
    "\n",
    "```"
   ]
  },
  {
   "cell_type": "markdown",
   "id": "9dd5b6ec-dc36-4666-abfd-2a3d7321fc55",
   "metadata": {},
   "source": [
    "# Read data as HUDI "
   ]
  },
  {
   "cell_type": "code",
   "execution_count": 1,
   "id": "4d063637-aab8-4c7c-968b-d9dab3548030",
   "metadata": {},
   "outputs": [],
   "source": [
    "%load_ext sql"
   ]
  },
  {
   "cell_type": "code",
   "execution_count": 2,
   "id": "6d2d4f61-d068-4f08-8343-8c70ac54ff5f",
   "metadata": {},
   "outputs": [],
   "source": [
    "%sql trino://admin@localhost:8080/default"
   ]
  },
  {
   "cell_type": "code",
   "execution_count": 3,
   "id": "0a16dba0-d4df-49a3-9eb9-b9b2ae619c4e",
   "metadata": {},
   "outputs": [
    {
     "name": "stdout",
     "output_type": "stream",
     "text": [
      " * trino://admin@localhost:8080/default\n",
      "(trino.exceptions.TrinoUserError) TrinoUserError(type=USER_ERROR, name=MISSING_SCHEMA_NAME, message=\"line 1:1: Schema must be specified when session schema is not set\", query_id=20240402_115646_00000_wgz39)\n",
      "[SQL: SHOW TABLES]\n",
      "(Background on this error at: https://sqlalche.me/e/20/f405)\n"
     ]
    }
   ],
   "source": [
    "%sql SHOW TABLES"
   ]
  },
  {
   "cell_type": "code",
   "execution_count": 3,
   "id": "154fc82f-b218-47c2-8028-05b970b6a782",
   "metadata": {},
   "outputs": [
    {
     "name": "stdout",
     "output_type": "stream",
     "text": [
      " * trino://admin@localhost:8080/default\n",
      "Done.\n"
     ]
    },
    {
     "data": {
      "text/html": [
       "<table>\n",
       "    <thead>\n",
       "        <tr>\n",
       "            <th>Catalog</th>\n",
       "        </tr>\n",
       "    </thead>\n",
       "    <tbody>\n",
       "        <tr>\n",
       "            <td>delta</td>\n",
       "        </tr>\n",
       "        <tr>\n",
       "            <td>hive</td>\n",
       "        </tr>\n",
       "        <tr>\n",
       "            <td>hudi</td>\n",
       "        </tr>\n",
       "        <tr>\n",
       "            <td>iceberg</td>\n",
       "        </tr>\n",
       "        <tr>\n",
       "            <td>minio</td>\n",
       "        </tr>\n",
       "        <tr>\n",
       "            <td>system</td>\n",
       "        </tr>\n",
       "    </tbody>\n",
       "</table>"
      ],
      "text/plain": [
       "[('delta',), ('hive',), ('hudi',), ('iceberg',), ('minio',), ('system',)]"
      ]
     },
     "execution_count": 3,
     "metadata": {},
     "output_type": "execute_result"
    }
   ],
   "source": [
    "%sql SHOW CATALOGS"
   ]
  },
  {
   "cell_type": "code",
   "execution_count": 4,
   "id": "3b9db31f-aba4-4525-be67-1d0333c177af",
   "metadata": {},
   "outputs": [
    {
     "name": "stdout",
     "output_type": "stream",
     "text": [
      " * trino://admin@localhost:8080/default\n",
      "Done.\n"
     ]
    },
    {
     "data": {
      "text/plain": [
       "[]"
      ]
     },
     "execution_count": 4,
     "metadata": {},
     "output_type": "execute_result"
    }
   ],
   "source": [
    "%sql USE hudi.default"
   ]
  },
  {
   "cell_type": "code",
   "execution_count": 5,
   "id": "3e49e25d-5423-437a-9118-bc918c0d153e",
   "metadata": {},
   "outputs": [
    {
     "name": "stdout",
     "output_type": "stream",
     "text": [
      " * trino://admin@localhost:8080/default\n",
      "Done.\n"
     ]
    },
    {
     "data": {
      "text/html": [
       "<table>\n",
       "    <thead>\n",
       "        <tr>\n",
       "            <th>_hoodie_commit_time</th>\n",
       "            <th>_hoodie_commit_seqno</th>\n",
       "            <th>_hoodie_record_key</th>\n",
       "            <th>_hoodie_partition_path</th>\n",
       "            <th>_hoodie_file_name</th>\n",
       "            <th>order_id</th>\n",
       "            <th>name</th>\n",
       "            <th>order_value</th>\n",
       "            <th>priority</th>\n",
       "            <th>order_date</th>\n",
       "            <th>customer_id</th>\n",
       "            <th>ts</th>\n",
       "            <th>state</th>\n",
       "        </tr>\n",
       "    </thead>\n",
       "    <tbody>\n",
       "        <tr>\n",
       "            <td>20240402075348072</td>\n",
       "            <td>20240402075348072_33_0</td>\n",
       "            <td>523853e9-798a-4fc3-b2fc-819b77b1d82b</td>\n",
       "            <td>state=TN</td>\n",
       "            <td>b2ae4d0a-38b3-42e0-8593-e9cd48af90c1-0_33-27-195_20240402075348072.parquet</td>\n",
       "            <td>523853e9-798a-4fc3-b2fc-819b77b1d82b</td>\n",
       "            <td>Fast several care.</td>\n",
       "            <td>402</td>\n",
       "            <td>MEDIUM</td>\n",
       "            <td>2024-03-11</td>\n",
       "            <td>f92b8a72-df60-4c81-8a00-4b9296658680</td>\n",
       "            <td>1712058607.062175</td>\n",
       "            <td>TN</td>\n",
       "        </tr>\n",
       "        <tr>\n",
       "            <td>20240402075348072</td>\n",
       "            <td>20240402075348072_58_0</td>\n",
       "            <td>4e3296e7-4e9a-4447-99ef-54e2229ddb0f</td>\n",
       "            <td>state=MO</td>\n",
       "            <td>3fd27d2a-f52c-4edf-837a-3f3bde53f2e6-0_58-27-220_20240402075348072.parquet</td>\n",
       "            <td>4e3296e7-4e9a-4447-99ef-54e2229ddb0f</td>\n",
       "            <td>Money increase.</td>\n",
       "            <td>742</td>\n",
       "            <td>LOW</td>\n",
       "            <td>2024-03-14</td>\n",
       "            <td>dbf17165-04ad-4131-add7-6d5f0b2e370d</td>\n",
       "            <td>1712058607.084821</td>\n",
       "            <td>MO</td>\n",
       "        </tr>\n",
       "    </tbody>\n",
       "</table>"
      ],
      "text/plain": [
       "[('20240402075348072', '20240402075348072_33_0', '523853e9-798a-4fc3-b2fc-819b77b1d82b', 'state=TN', 'b2ae4d0a-38b3-42e0-8593-e9cd48af90c1-0_33-27-195_20240402075348072.parquet', '523853e9-798a-4fc3-b2fc-819b77b1d82b', 'Fast several care.', 402, 'MEDIUM', datetime.date(2024, 3, 11), 'f92b8a72-df60-4c81-8a00-4b9296658680', 1712058607.062175, 'TN'),\n",
       " ('20240402075348072', '20240402075348072_58_0', '4e3296e7-4e9a-4447-99ef-54e2229ddb0f', 'state=MO', '3fd27d2a-f52c-4edf-837a-3f3bde53f2e6-0_58-27-220_20240402075348072.parquet', '4e3296e7-4e9a-4447-99ef-54e2229ddb0f', 'Money increase.', 742, 'LOW', datetime.date(2024, 3, 14), 'dbf17165-04ad-4131-add7-6d5f0b2e370d', 1712058607.084821, 'MO')]"
      ]
     },
     "execution_count": 5,
     "metadata": {},
     "output_type": "execute_result"
    }
   ],
   "source": [
    "%sql SELECT * FROM bronze_orders limit 2"
   ]
  },
  {
   "cell_type": "code",
   "execution_count": 17,
   "id": "453405bc-ac57-41ab-80fa-b8e8b73fef2c",
   "metadata": {},
   "outputs": [
    {
     "name": "stdout",
     "output_type": "stream",
     "text": [
      " * trino://admin@localhost:8080/default\n",
      "Done.\n",
      " * trino://admin@localhost:8080/default\n",
      "Done.\n",
      " * trino://admin@localhost:8080/default\n",
      "Done.\n",
      " * trino://admin@localhost:8080/default\n",
      "Done.\n"
     ]
    },
    {
     "data": {
      "text/html": [
       "<table>\n",
       "    <thead>\n",
       "        <tr>\n",
       "            <th>_hoodie_commit_time</th>\n",
       "            <th>_hoodie_commit_seqno</th>\n",
       "            <th>_hoodie_record_key</th>\n",
       "            <th>_hoodie_partition_path</th>\n",
       "            <th>_hoodie_file_name</th>\n",
       "            <th>order_id</th>\n",
       "            <th>name</th>\n",
       "            <th>order_value</th>\n",
       "            <th>priority</th>\n",
       "            <th>order_date</th>\n",
       "            <th>customer_id</th>\n",
       "            <th>ts</th>\n",
       "            <th>state</th>\n",
       "        </tr>\n",
       "    </thead>\n",
       "    <tbody>\n",
       "        <tr>\n",
       "            <td>20240401172009853</td>\n",
       "            <td>20240401172009853_47_0</td>\n",
       "            <td>5645125b-4971-4120-8f42-0ab426e91e24</td>\n",
       "            <td>state=MA</td>\n",
       "            <td>d86fef6a-06a7-4e3f-be29-d141f2f17efb-0_47-29-341_20240401172009853.parquet</td>\n",
       "            <td>5645125b-4971-4120-8f42-0ab426e91e24</td>\n",
       "            <td>Example attention.</td>\n",
       "            <td>946</td>\n",
       "            <td>LOW</td>\n",
       "            <td>2024-03-04</td>\n",
       "            <td>4a3b6da3-a60c-4b16-ada7-f7911889c334</td>\n",
       "            <td>1711891671.575942</td>\n",
       "            <td>MA</td>\n",
       "        </tr>\n",
       "        <tr>\n",
       "            <td>20240401172009853</td>\n",
       "            <td>20240401172009853_47_1</td>\n",
       "            <td>dbc16706-8860-41c7-a807-261d0eb1bdff</td>\n",
       "            <td>state=MA</td>\n",
       "            <td>d86fef6a-06a7-4e3f-be29-d141f2f17efb-0_47-29-341_20240401172009853.parquet</td>\n",
       "            <td>dbc16706-8860-41c7-a807-261d0eb1bdff</td>\n",
       "            <td>Mission current.</td>\n",
       "            <td>206</td>\n",
       "            <td>HIGH</td>\n",
       "            <td>2024-03-20</td>\n",
       "            <td>d1920f30-cf5f-4e2e-a71a-bc4409be973e</td>\n",
       "            <td>1711891671.665964</td>\n",
       "            <td>MA</td>\n",
       "        </tr>\n",
       "    </tbody>\n",
       "</table>"
      ],
      "text/plain": [
       "[('20240401172009853', '20240401172009853_47_0', '5645125b-4971-4120-8f42-0ab426e91e24', 'state=MA', 'd86fef6a-06a7-4e3f-be29-d141f2f17efb-0_47-29-341_20240401172009853.parquet', '5645125b-4971-4120-8f42-0ab426e91e24', 'Example attention.', 946, 'LOW', datetime.date(2024, 3, 4), '4a3b6da3-a60c-4b16-ada7-f7911889c334', 1711891671.575942, 'MA'),\n",
       " ('20240401172009853', '20240401172009853_47_1', 'dbc16706-8860-41c7-a807-261d0eb1bdff', 'state=MA', 'd86fef6a-06a7-4e3f-be29-d141f2f17efb-0_47-29-341_20240401172009853.parquet', 'dbc16706-8860-41c7-a807-261d0eb1bdff', 'Mission current.', 206, 'HIGH', datetime.date(2024, 3, 20), 'd1920f30-cf5f-4e2e-a71a-bc4409be973e', 1711891671.665964, 'MA')]"
      ]
     },
     "execution_count": 17,
     "metadata": {},
     "output_type": "execute_result"
    }
   ],
   "source": [
    "%sql SHOW CATALOGS\n",
    "\n",
    "%sql USE hudi.default\n",
    "\n",
    "%sql SHOW TABLES\n",
    "\n",
    "%sql SELECT * FROM bronze_orders limit 2"
   ]
  },
  {
   "cell_type": "markdown",
   "id": "249a77ce-8d11-4685-8fd9-d6d179e1ab47",
   "metadata": {},
   "source": [
    "# Read As Delta"
   ]
  },
  {
   "cell_type": "code",
   "execution_count": 6,
   "id": "e7d25564-7eb2-49d2-888d-362f3e1363e5",
   "metadata": {},
   "outputs": [
    {
     "name": "stdout",
     "output_type": "stream",
     "text": [
      " * trino://admin@localhost:8080/default\n",
      "Done.\n",
      " * trino://admin@localhost:8080/default\n",
      "Done.\n",
      " * trino://admin@localhost:8080/default\n",
      "Done.\n",
      " * trino://admin@localhost:8080/default\n",
      "Done.\n"
     ]
    },
    {
     "data": {
      "text/html": [
       "<table>\n",
       "    <thead>\n",
       "        <tr>\n",
       "            <th>_hoodie_commit_time</th>\n",
       "            <th>_hoodie_commit_seqno</th>\n",
       "            <th>_hoodie_record_key</th>\n",
       "            <th>_hoodie_partition_path</th>\n",
       "            <th>_hoodie_file_name</th>\n",
       "            <th>order_id</th>\n",
       "            <th>name</th>\n",
       "            <th>order_value</th>\n",
       "            <th>priority</th>\n",
       "            <th>state</th>\n",
       "            <th>order_date</th>\n",
       "            <th>customer_id</th>\n",
       "            <th>ts</th>\n",
       "        </tr>\n",
       "    </thead>\n",
       "    <tbody>\n",
       "        <tr>\n",
       "            <td>20240402075348072</td>\n",
       "            <td>20240402075348072_32_0</td>\n",
       "            <td>f848525c-1374-418d-94e3-8d0180262e2b</td>\n",
       "            <td>state=LA</td>\n",
       "            <td>b2b6ca0e-3589-4fd5-b808-58d3c0b2e028-0_32-27-194_20240402075348072.parquet</td>\n",
       "            <td>f848525c-1374-418d-94e3-8d0180262e2b</td>\n",
       "            <td>Early visit.</td>\n",
       "            <td>526</td>\n",
       "            <td>LOW</td>\n",
       "            <td>LA</td>\n",
       "            <td>2024-03-18</td>\n",
       "            <td>72229064-c1f2-4ecd-b658-930601141490</td>\n",
       "            <td>1712058607.065763</td>\n",
       "        </tr>\n",
       "        <tr>\n",
       "            <td>20240402075348072</td>\n",
       "            <td>20240402075348072_55_0</td>\n",
       "            <td>8ebfbfac-2023-454e-b2eb-9c2455b935f6</td>\n",
       "            <td>state=MN</td>\n",
       "            <td>9704ee3b-171b-480f-9104-f3496419a3f5-0_55-27-217_20240402075348072.parquet</td>\n",
       "            <td>8ebfbfac-2023-454e-b2eb-9c2455b935f6</td>\n",
       "            <td>Since should unit.</td>\n",
       "            <td>855</td>\n",
       "            <td>LOW</td>\n",
       "            <td>MN</td>\n",
       "            <td>2024-03-28</td>\n",
       "            <td>09744ba1-8e9f-497d-beed-88cc24ffe495</td>\n",
       "            <td>1712058607.066639</td>\n",
       "        </tr>\n",
       "    </tbody>\n",
       "</table>"
      ],
      "text/plain": [
       "[('20240402075348072', '20240402075348072_32_0', 'f848525c-1374-418d-94e3-8d0180262e2b', 'state=LA', 'b2b6ca0e-3589-4fd5-b808-58d3c0b2e028-0_32-27-194_20240402075348072.parquet', 'f848525c-1374-418d-94e3-8d0180262e2b', 'Early visit.', 526, 'LOW', 'LA', datetime.date(2024, 3, 18), '72229064-c1f2-4ecd-b658-930601141490', 1712058607.065763),\n",
       " ('20240402075348072', '20240402075348072_55_0', '8ebfbfac-2023-454e-b2eb-9c2455b935f6', 'state=MN', '9704ee3b-171b-480f-9104-f3496419a3f5-0_55-27-217_20240402075348072.parquet', '8ebfbfac-2023-454e-b2eb-9c2455b935f6', 'Since should unit.', 855, 'LOW', 'MN', datetime.date(2024, 3, 28), '09744ba1-8e9f-497d-beed-88cc24ffe495', 1712058607.066639)]"
      ]
     },
     "execution_count": 6,
     "metadata": {},
     "output_type": "execute_result"
    }
   ],
   "source": [
    "%sql SHOW CATALOGS\n",
    "\n",
    "%sql USE delta.delta_db\n",
    "\n",
    "%sql SHOW TABLES\n",
    "\n",
    "%sql select * from orders limit 2 \n"
   ]
  },
  {
   "cell_type": "code",
   "execution_count": null,
   "id": "9063bf46-31a4-4c77-ab54-e522e47f6f6d",
   "metadata": {},
   "outputs": [],
   "source": []
  }
 ],
 "metadata": {
  "kernelspec": {
   "display_name": "Python 3 (ipykernel)",
   "language": "python",
   "name": "python3"
  },
  "language_info": {
   "codemirror_mode": {
    "name": "ipython",
    "version": 3
   },
   "file_extension": ".py",
   "mimetype": "text/x-python",
   "name": "python",
   "nbconvert_exporter": "python",
   "pygments_lexer": "ipython3",
   "version": "3.11.6"
  }
 },
 "nbformat": 4,
 "nbformat_minor": 5
}
